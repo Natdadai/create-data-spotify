{
 "cells": [
  {
   "cell_type": "markdown",
   "id": "798eb685",
   "metadata": {},
   "source": [
    "# สร้าง data จาก spotify\n",
    "    - จะทำการเก็บไฟล์ csv ของแต่ละหมวดเพลงไว้ในโฟลเดอร์ csv-file โดยมี all-genre ที่จะเก็บข้อมูลทุกหมวดหมู่ไว้\n",
    "    - ในการเก็บข้อมูลไฟล์เพลง จะเก็บในรูป .wav โดยอยู่โฟลเดอร์ music_data โดยภายในจะแยกโฟลเดอร์ไว้แต่ละหมวดเพลง"
   ]
  },
  {
   "cell_type": "code",
   "execution_count": 1,
   "id": "acb3c85d",
   "metadata": {},
   "outputs": [
    {
     "name": "stdout",
     "output_type": "stream",
     "text": [
      "Requirement already satisfied: python-dotenv in c:\\users\\tong_\\anaconda3\\lib\\site-packages (1.0.0)\n"
     ]
    },
    {
     "name": "stderr",
     "output_type": "stream",
     "text": [
      "\n",
      "[notice] A new release of pip is available: 23.0 -> 23.0.1\n",
      "[notice] To update, run: python.exe -m pip install --upgrade pip\n"
     ]
    },
    {
     "name": "stdout",
     "output_type": "stream",
     "text": [
      "Requirement already satisfied: spotipy in c:\\users\\tong_\\anaconda3\\lib\\site-packages (2.22.1)\n",
      "Requirement already satisfied: six>=1.15.0 in c:\\users\\tong_\\anaconda3\\lib\\site-packages (from spotipy) (1.16.0)\n",
      "Requirement already satisfied: redis>=3.5.3 in c:\\users\\tong_\\anaconda3\\lib\\site-packages (from spotipy) (4.5.1)\n",
      "Requirement already satisfied: requests>=2.25.0 in c:\\users\\tong_\\anaconda3\\lib\\site-packages (from spotipy) (2.28.1)\n",
      "Requirement already satisfied: urllib3>=1.26.0 in c:\\users\\tong_\\anaconda3\\lib\\site-packages (from spotipy) (1.26.11)\n",
      "Requirement already satisfied: async-timeout>=4.0.2 in c:\\users\\tong_\\anaconda3\\lib\\site-packages (from redis>=3.5.3->spotipy) (4.0.2)\n",
      "Requirement already satisfied: idna<4,>=2.5 in c:\\users\\tong_\\anaconda3\\lib\\site-packages (from requests>=2.25.0->spotipy) (3.3)\n",
      "Requirement already satisfied: certifi>=2017.4.17 in c:\\users\\tong_\\anaconda3\\lib\\site-packages (from requests>=2.25.0->spotipy) (2022.12.7)\n",
      "Requirement already satisfied: charset-normalizer<3,>=2 in c:\\users\\tong_\\anaconda3\\lib\\site-packages (from requests>=2.25.0->spotipy) (2.0.4)\n"
     ]
    },
    {
     "name": "stderr",
     "output_type": "stream",
     "text": [
      "\n",
      "[notice] A new release of pip is available: 23.0 -> 23.0.1\n",
      "[notice] To update, run: python.exe -m pip install --upgrade pip\n"
     ]
    }
   ],
   "source": [
    "!pip install python-dotenv\n",
    "!pip install spotipy --upgrade"
   ]
  },
  {
   "cell_type": "code",
   "execution_count": 2,
   "id": "cffbedb0",
   "metadata": {},
   "outputs": [],
   "source": [
    "import os\n",
    "from spotipy.oauth2 import SpotifyOAuth\n",
    "from spotipy.oauth2 import SpotifyClientCredentials\n",
    "from dotenv import load_dotenv\n",
    "import spotipy\n",
    "import pandas as pd\n",
    "import seaborn as sns\n",
    "import matplotlib.pyplot as plt\n",
    "import json\n",
    "import time\n",
    "\n",
    "#โหลดค่า client_id secret_id ที่ได้จาก spotify ผ่าน .env\n",
    "load_dotenv()\n",
    "\n",
    "client_credentials_manager = SpotifyClientCredentials(client_id=os.environ.get(\"SPOTIPY_CLIENT_ID\"),\n",
    "                                                      client_secret=os.environ.get(\"SPOTIPY_CLIENT_SECRET\"))\n",
    "\n",
    "sp = spotipy.Spotify(client_credentials_manager=client_credentials_manager)"
   ]
  },
  {
   "cell_type": "markdown",
   "id": "844f3ae4",
   "metadata": {},
   "source": [
    "# ดึงข้อมูลจาก spotify\n",
    "    ทำการดึงข้อมูลจาก spotify มาเก็บในรูปของ csv"
   ]
  },
  {
   "cell_type": "code",
   "execution_count": 3,
   "id": "6730b839",
   "metadata": {},
   "outputs": [],
   "source": [
    "#การเอาข้อมูลของเพลงโดยใช้ id ของเพลง\n",
    "def get_genres_by_track_id(track_id):\n",
    "\n",
    "    track_data = sp.track(track_id)\n",
    "\n",
    "    artist_ids = []\n",
    "\n",
    "    for artist in track_data[\"artists\"]:\n",
    "        artist_ids.append(artist[\"id\"])\n",
    "\n",
    "    artists_data = sp.artists(artist_ids)\n",
    "\n",
    "    genres = []\n",
    "\n",
    "    for artist in artists_data[\"artists\"]:\n",
    "        genres += artist[\"genres\"]\n",
    "        break\n",
    "\n",
    "    return genres\n",
    "\n",
    "#เอาข้อมูลที่หมวดหมู่เพลงที่ spotify มีผ่านไฟล์ genres.json\n",
    "def get_genres():\n",
    "    # Open genres file\n",
    "    try:\n",
    "        with open('genres.json', 'r') as infile:\n",
    "            valid_genres = json.load(infile)\n",
    "    except FileNotFoundError:\n",
    "        print(\"Couldn't find genres file!\")\n",
    "        sys.exit(1)\n",
    "    \n",
    "    return valid_genres\n",
    "\n",
    "#สร้างไฟล์ csv ของเพลง\n",
    "def create_csv(song_meta,genre,limit):\n",
    "    index = 0\n",
    "    song_meta_df = pd.DataFrame.from_dict(song_meta)\n",
    " \n",
    "    # check the song feature\n",
    "    features = sp.audio_features(song_meta['id'][0:50])\n",
    "    for i in range(1,limit//50):\n",
    "        features += sp.audio_features(song_meta['id'][50*i:50*i + 50])\n",
    "        \n",
    "    # change dictionary to dataframe\n",
    "    features_df = pd.DataFrame.from_dict(features)\n",
    "\n",
    "    # combine two dataframe\n",
    "    final_df = song_meta_df.merge(features_df)\n",
    "\n",
    "    final_df = final_df.drop(columns=['type','uri', 'track_href', 'time_signature'])\n",
    "\n",
    "    final_df.to_csv(parent_dir_csv + genre + \".csv\",index=False)\n",
    "\n",
    "#ตรวจสอบว่ามีไฟล์ csv อยู่ในเครื่องแล้วหรือไม่\n",
    "def check_file(genre):\n",
    "    path  = parent_dir_csv + genre + \".csv\"\n",
    "    check_file = os.path.isfile(path)\n",
    "    return check_file"
   ]
  },
  {
   "cell_type": "code",
   "execution_count": 4,
   "id": "ac840580",
   "metadata": {},
   "outputs": [],
   "source": [
    "genres_list = get_genres()\n",
    "\n",
    "parent_dir_csv = \"./csv-file/\"\n",
    "\n",
    "#id ของเพลง\n",
    "ids=[]\n",
    "\n",
    "#จำนวนเพลงที่ต้องการโหลดในแต่ละหมวด (ได้ไม่เกิน 1000 เพลงต่อหมวด)\n",
    "limit_per_genres = 100\n",
    "\n",
    "#list สำหรับเก็บว่าหมวดใดไม่สามารถสร้างได้ เนื่องจากบางหมวดไม่มีเพลงหรือไม่มี preview ให้\n",
    "genres_not_create = []"
   ]
  },
  {
   "cell_type": "code",
   "execution_count": 5,
   "id": "896277d4",
   "metadata": {},
   "outputs": [],
   "source": [
    "if not os.path.exists(parent_dir_csv):\n",
    "    os.mkdir(parent_dir_csv)\n",
    "\n",
    "\n",
    "#ดึง id เพลงว่ามีเพลงใดเพิ่มไปแล้วบ้าง กรณีที่เกิด error ระหว่างการทำงาน\n",
    "for genre in genres_list:\n",
    "    if check_file(genre):\n",
    "        ids += list(pd.read_csv(parent_dir_csv + genre + \".csv\").id)\n",
    "        continue\n",
    "    break"
   ]
  },
  {
   "cell_type": "markdown",
   "id": "01d747e1",
   "metadata": {},
   "source": [
    "ทำการดึงข้อมูลเพลงจาก spotify แล้ว save ในรูปแบบ csv ในแต่ละหมวดหมู่เพลง"
   ]
  },
  {
   "cell_type": "code",
   "execution_count": 6,
   "id": "f07513d2",
   "metadata": {},
   "outputs": [
    {
     "name": "stdout",
     "output_type": "stream",
     "text": [
      "=======> have file blues.csv\n",
      "=======> have file jazz.csv\n",
      "=======> have file opera.csv\n",
      "=======> have file hip-hop.csv\n",
      "=======> have file industrial.csv\n"
     ]
    }
   ],
   "source": [
    "for genre in genres_list:\n",
    "    offset = 0\n",
    "    song_meta={'id':[],'preview_url':[],'genre':[]}\n",
    "    \n",
    "    if check_file(genre):\n",
    "        print(\"=======> have file {}.csv\".format(genre))\n",
    "        continue\n",
    "        \n",
    "    while list(song_meta.items())[2][1].count(genre) < limit_per_genres:\n",
    "        \n",
    "        print(\"{} : {}\".format(genre,list(song_meta.items())[2][1].count(genre)))\n",
    "        time.sleep(1)\n",
    "        index = len(ids)\n",
    "        try:\n",
    "            results = sp.search(q=\"genre:\"+genre,limit=50,offset=offset,type=\"track\")\n",
    "        except:\n",
    "            break\n",
    "            \n",
    "        if (len(results['tracks']['items']) == 0):\n",
    "            print(\"=======> result for search genre {} is 0 track\".format(genre))\n",
    "            break\n",
    "        \n",
    "        offset += 50\n",
    "        # create a list of song ids\n",
    "        for item in results['tracks']['items']:\n",
    "            if item['id'] in ids:\n",
    "                continue\n",
    "            track = item['id']\n",
    "            ids.append(track)\n",
    "            \n",
    "            if list(song_meta.items())[2][1].count(genre) == limit_per_genres:\n",
    "                print(\"{} : {}\".format(genre,list(song_meta.items())[2][1].count(genre)))\n",
    "                break\n",
    "            \n",
    "            if item['preview_url'] == None:\n",
    "                continue\n",
    "                \n",
    "            # song id\n",
    "            song_meta['id'].append(item['id'])\n",
    "\n",
    "            # song preview\n",
    "            preview_url = item['preview_url']\n",
    "            song_meta['preview_url'] += [preview_url]\n",
    "\n",
    "            # song genres\n",
    "            song_genre = genre\n",
    "            song_meta[\"genre\"] += [song_genre]\n",
    "        \n",
    "    if list(song_meta.items())[2][1].count(genre) == 0:\n",
    "        print(\"=======> can't create file {}.csv\".format(genre))\n",
    "        genres_not_create.append(genre)\n",
    "        continue\n",
    "    \n",
    "    print(\"=======> create csv {} {}\".format(genre,list(song_meta.items())[2][1].count(genre)))\n",
    "    create_csv(song_meta,genre,limit_per_genres)"
   ]
  },
  {
   "cell_type": "code",
   "execution_count": 7,
   "id": "c0d250cf",
   "metadata": {},
   "outputs": [],
   "source": [
    "#ทำการรวมไฟล์ csv ของแต่ละหมวดหมู่เพลงให้อยู่ในไฟล์เดียวกัน\n",
    "\n",
    "#list all the files from the directory\n",
    "file_list = os.listdir(parent_dir_csv)\n",
    "\n",
    "\n",
    "\n",
    "if not check_file(\"all_genre\"):\n",
    "    df_all_genre = pd.DataFrame()\n",
    "    #append all files together\n",
    "    for file in file_list:\n",
    "                df_temp = pd.read_csv(parent_dir_csv + file)\n",
    "                df_all_genre = pd.concat([df_all_genre,df_temp], ignore_index=True)\n",
    "\n",
    "    df_all_genre.to_csv(parent_dir_csv + \"all_genre\" + \".csv\",index=False)"
   ]
  },
  {
   "cell_type": "markdown",
   "id": "c9f208f9",
   "metadata": {},
   "source": [
    "## ทำการสร้างไฟล์ wav ที่ได้จาก preview url ของแต่ละเพลง"
   ]
  },
  {
   "cell_type": "code",
   "execution_count": 8,
   "id": "1d96d334",
   "metadata": {},
   "outputs": [],
   "source": [
    "import requests\n",
    "import time\n",
    "from multiprocessing import cpu_count\n",
    "from multiprocessing.pool import ThreadPool\n",
    "import urllib.request\n",
    "import numpy as np\n",
    "from tqdm import tqdm"
   ]
  },
  {
   "cell_type": "code",
   "execution_count": 9,
   "id": "a65cb5a6",
   "metadata": {},
   "outputs": [],
   "source": [
    "df_all_genre = pd.read_csv(\"./csv-file/all_genre.csv\")"
   ]
  },
  {
   "cell_type": "code",
   "execution_count": 10,
   "id": "c11d71c3",
   "metadata": {},
   "outputs": [],
   "source": [
    "parent_dir_wav = \"./music_data/\"\n",
    "\n",
    "if not os.path.exists(parent_dir_wav):\n",
    "    os.mkdir(parent_dir_wav)\n",
    "\n",
    "genres , counts = np.unique(df_all_genre['genre'],return_counts=True)\n",
    "    \n",
    "#ทำการกำหนด path และชื่อไฟล์ : parent_dir_wav/[genre]/[genre_name].wav\n",
    "list_file_path = []\n",
    "for genre,i in zip(genres , counts):\n",
    "    genre_dir = os.path.join(parent_dir_wav, genre)\n",
    "    for j in range(1,i+1):\n",
    "        file_name = genre + \"_\" + str(j) + \".wav\"\n",
    "        list_file_path.append(genre_dir + \"/\" + file_name)"
   ]
  },
  {
   "cell_type": "code",
   "execution_count": 11,
   "id": "bb0ad8b0",
   "metadata": {},
   "outputs": [],
   "source": [
    "#ทำการ download preview music จาก url แล้วจัดเก็บในรูปไฟล์ wav\n",
    "def download_url(args):\n",
    "    url, fn = args[0], args[1]\n",
    "    \n",
    "    try:\n",
    "        path = fn.rsplit(\"/\",1)[0]\n",
    "        file_name = fn.rsplit(\"/\",1)[1]\n",
    "    except Exception as e:\n",
    "        print('Exception in download_url():', e)\n",
    "        \n",
    "    if not os.path.exists(path):\n",
    "        os.mkdir(path)\n",
    "        \n",
    "    if os.path.isfile(path + \"/\" + file_name):\n",
    "        return\n",
    "    \n",
    "    urllib.request.urlretrieve(url, path + \"/\" + file_name)\n",
    "\n",
    "#ทำการ download แบบ parallel\n",
    "def download_parallel(args):\n",
    "    cpus = cpu_count()\n",
    "    results = ThreadPool(cpus - 1).imap_unordered(download_url, args)"
   ]
  },
  {
   "cell_type": "markdown",
   "id": "eac747bf",
   "metadata": {},
   "source": [
    "***กรณีที่ไฟล์ไม่ครบให้ run ใหม่***"
   ]
  },
  {
   "cell_type": "code",
   "execution_count": 13,
   "id": "b142d9be",
   "metadata": {},
   "outputs": [],
   "source": [
    "zip_music = zip(df_all_genre.iloc[0:].preview_url,list_file_path)\n",
    "download_parallel(zip_music)"
   ]
  }
 ],
 "metadata": {
  "kernelspec": {
   "display_name": "deep_env",
   "language": "python",
   "name": "deep_env"
  },
  "language_info": {
   "codemirror_mode": {
    "name": "ipython",
    "version": 3
   },
   "file_extension": ".py",
   "mimetype": "text/x-python",
   "name": "python",
   "nbconvert_exporter": "python",
   "pygments_lexer": "ipython3",
   "version": "3.9.16"
  }
 },
 "nbformat": 4,
 "nbformat_minor": 5
}
