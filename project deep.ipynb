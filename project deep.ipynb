{
 "cells": [
  {
   "cell_type": "code",
   "execution_count": 1,
   "id": "36d57fe3",
   "metadata": {
    "scrolled": false
   },
   "outputs": [],
   "source": [
    "# pip install python-dotenv\n",
    "# pip install spotipy --upgrade\n",
    "# pip install python-vlc\n",
    "import os\n",
    "from spotipy.oauth2 import SpotifyOAuth\n",
    "from spotipy.oauth2 import SpotifyClientCredentials\n",
    "from dotenv import load_dotenv\n",
    "import spotipy\n",
    "import pandas as pd\n",
    "import seaborn as sns\n",
    "import matplotlib.pyplot as plt\n",
    "import vlc\n",
    "import json\n",
    "\n",
    "load_dotenv()\n",
    "\n",
    "client_credentials_manager = SpotifyClientCredentials(client_id=os.environ.get(\"SPOTIPY_CLIENT_ID\"),\n",
    "                                                      client_secret=os.environ.get(\"SPOTIPY_CLIENT_SECRET\"))\n",
    "\n",
    "sp = spotipy.Spotify(client_credentials_manager=client_credentials_manager)\n",
    "\n",
    "# https://open.spotify.com/playlist/37i9dQZF1E38k2WiBlq4DF?si=96e4439556ff412c\n",
    "# https://open.spotify.com/track/0rc3gOGiTLUz9rZ3ypsYW7?si=721667e208cb4c64\n",
    "# results = sp.playlist(\"37i9dQZF1E38k2WiBlq4DF\")\n",
    "# results = sp.track(\"66lF1QWtLZXJofJ3x388RV\")"
   ]
  },
  {
   "cell_type": "code",
   "execution_count": 2,
   "id": "02fbed12",
   "metadata": {},
   "outputs": [],
   "source": [
    "def get_genres_by_track_id(track_id):\n",
    "\n",
    "    sp = spotipy.Spotify(auth_manager=SpotifyClientCredentials(client_id=CLIENT_ID,client_secret=CLIENT_SECRET))\n",
    "\n",
    "    track_data = sp.track(track_id)\n",
    "\n",
    "    artist_ids = []\n",
    "\n",
    "    for artist in track_data[\"artists\"]:\n",
    "        artist_ids.append(artist[\"id\"])\n",
    "\n",
    "    artists_data = sp.artists(artist_ids)\n",
    "\n",
    "    genres = []\n",
    "\n",
    "    for artist in artists_data[\"artists\"]:\n",
    "        genres += artist[\"genres\"]\n",
    "        break\n",
    "\n",
    "    return genres\n",
    "\n",
    "def play_music(final_df):\n",
    "    #ลองเล่นเพลงที่ได้จาก preview_url\n",
    "    p.stop()\n",
    "    song = str(final_df['preview_url'].sample().values[0])\n",
    "    p = vlc.MediaPlayer(song)\n",
    "\n",
    "    #ตั้งความดังเสียง\n",
    "    p.audio_set_volume(50)\n",
    "\n",
    "    p.play()\n",
    "\n",
    "def get_genres():\n",
    "    # Open genres file\n",
    "    try:\n",
    "        with open('genres.json', 'r') as infile:\n",
    "            valid_genres = json.load(infile)\n",
    "    except FileNotFoundError:\n",
    "        print(\"Couldn't find genres file!\")\n",
    "        sys.exit(1)\n",
    "    \n",
    "    return valid_genres"
   ]
  },
  {
   "cell_type": "code",
   "execution_count": 102,
   "id": "6844c0c2",
   "metadata": {},
   "outputs": [],
   "source": [
    "genres_list = get_genres()\n",
    "ids=[]\n",
    "song_meta={'id':[],'preview_url':[],'genre':[]}\n",
    "limit_per_genres = 2"
   ]
  },
  {
   "cell_type": "code",
   "execution_count": 67,
   "id": "f1cd97e4",
   "metadata": {},
   "outputs": [
    {
     "data": {
      "text/plain": [
       "126"
      ]
     },
     "execution_count": 67,
     "metadata": {},
     "output_type": "execute_result"
    }
   ],
   "source": [
    "len(genres_list)"
   ]
  },
  {
   "cell_type": "code",
   "execution_count": 103,
   "id": "928cb526",
   "metadata": {},
   "outputs": [],
   "source": [
    "for genre in genres_list:\n",
    "    index = len(ids)\n",
    "    while list(song_meta.items())[2][1].count(genre) < limit_per_genres:\n",
    "        \n",
    "        results = sp.search(q=\"genre:\"+genre)\n",
    "\n",
    "        # create a list of song ids\n",
    "        for item in results['tracks']['items']:\n",
    "            print(genre)\n",
    "            if item['id'] in ids:\n",
    "                continue\n",
    "            track = item['id']\n",
    "            ids.append(track)\n",
    "\n",
    "        for song_id in ids[index:]:\n",
    "\n",
    "            if list(song_meta.items())[2][1].count(genre) == limit_per_genres:\n",
    "                break\n",
    "                \n",
    "            # get song's meta data\n",
    "            meta = sp.track(song_id)\n",
    "\n",
    "            # song id\n",
    "            song_meta['id'].append(song_id)\n",
    "\n",
    "            # song preview\n",
    "            preview_url = meta['preview_url']\n",
    "            song_meta['preview_url'] += [preview_url]\n",
    "\n",
    "            # song genres\n",
    "            song_genre = genre\n",
    "            song_meta[\"genre\"] += [song_genre]"
   ]
  },
  {
   "cell_type": "code",
   "execution_count": 16,
   "id": "5b85c652",
   "metadata": {},
   "outputs": [
    {
     "data": {
      "text/plain": [
       "152030660"
      ]
     },
     "execution_count": 16,
     "metadata": {},
     "output_type": "execute_result"
    }
   ],
   "source": [
    "len(ids)"
   ]
  },
  {
   "cell_type": "code",
   "execution_count": null,
   "id": "4845acc5",
   "metadata": {},
   "outputs": [],
   "source": [
    "song_meta_df = pd.DataFrame.from_dict(song_meta)\n",
    " \n",
    "# check the song feature\n",
    "features = sp.audio_features(song_meta['id'])\n",
    "\n",
    "# change dictionary to dataframe\n",
    "features_df = pd.DataFrame.from_dict(features)\n",
    "\n",
    "# combine two dataframe\n",
    "final_df = song_meta_df.merge(features_df)"
   ]
  },
  {
   "cell_type": "code",
   "execution_count": null,
   "id": "ae5b1406",
   "metadata": {},
   "outputs": [],
   "source": [
    "final_df.head()"
   ]
  },
  {
   "cell_type": "code",
   "execution_count": null,
   "id": "c71c02dd",
   "metadata": {},
   "outputs": [],
   "source": [
    "play_music(final_df)"
   ]
  },
  {
   "cell_type": "code",
   "execution_count": null,
   "id": "9c436131",
   "metadata": {
    "scrolled": false
   },
   "outputs": [],
   "source": [
    "final_df.columns"
   ]
  },
  {
   "cell_type": "code",
   "execution_count": null,
   "id": "401a7515",
   "metadata": {},
   "outputs": [],
   "source": [
    "final_df = final_df.drop(columns=['type','uri', 'track_href', 'analysis_url','duration_ms', 'time_signature'])"
   ]
  },
  {
   "cell_type": "code",
   "execution_count": null,
   "id": "ced6b6cf",
   "metadata": {},
   "outputs": [],
   "source": [
    "final_df.to_csv()"
   ]
  }
 ],
 "metadata": {
  "kernelspec": {
   "display_name": "deep_env",
   "language": "python",
   "name": "deep_env"
  },
  "language_info": {
   "codemirror_mode": {
    "name": "ipython",
    "version": 3
   },
   "file_extension": ".py",
   "mimetype": "text/x-python",
   "name": "python",
   "nbconvert_exporter": "python",
   "pygments_lexer": "ipython3",
   "version": "3.9.16"
  }
 },
 "nbformat": 4,
 "nbformat_minor": 5
}
