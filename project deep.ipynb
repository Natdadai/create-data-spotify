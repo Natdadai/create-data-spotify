{
 "cells": [
  {
   "cell_type": "code",
   "execution_count": 16,
   "id": "36d57fe3",
   "metadata": {
    "scrolled": false
   },
   "outputs": [],
   "source": [
    "# pip install python-dotenv\n",
    "# pip install spotipy --upgrade\n",
    "# pip install python-vlc\n",
    "import os\n",
    "from spotipy.oauth2 import SpotifyOAuth\n",
    "from spotipy.oauth2 import SpotifyClientCredentials\n",
    "from dotenv import load_dotenv\n",
    "import spotipy\n",
    "import pandas as pd\n",
    "import seaborn as sns\n",
    "import matplotlib.pyplot as plt\n",
    "import vlc\n",
    "import json\n",
    "import time\n",
    "\n",
    "load_dotenv()\n",
    "\n",
    "client_credentials_manager = SpotifyClientCredentials(client_id=os.environ.get(\"SPOTIPY_CLIENT_ID\"),\n",
    "                                                      client_secret=os.environ.get(\"SPOTIPY_CLIENT_SECRET\"))\n",
    "\n",
    "sp = spotipy.Spotify(client_credentials_manager=client_credentials_manager)\n",
    "\n",
    "# https://open.spotify.com/playlist/37i9dQZF1E38k2WiBlq4DF?si=96e4439556ff412c\n",
    "# https://open.spotify.com/track/0rc3gOGiTLUz9rZ3ypsYW7?si=721667e208cb4c64\n",
    "# results = sp.playlist(\"37i9dQZF1E38k2WiBlq4DF\")\n",
    "# results = sp.track(\"66lF1QWtLZXJofJ3x388RV\")"
   ]
  },
  {
   "cell_type": "code",
   "execution_count": 17,
   "id": "02fbed12",
   "metadata": {},
   "outputs": [],
   "source": [
    "def get_genres_by_track_id(track_id):\n",
    "\n",
    "    track_data = sp.track(track_id)\n",
    "\n",
    "    artist_ids = []\n",
    "\n",
    "    for artist in track_data[\"artists\"]:\n",
    "        artist_ids.append(artist[\"id\"])\n",
    "\n",
    "    artists_data = sp.artists(artist_ids)\n",
    "\n",
    "    genres = []\n",
    "\n",
    "    for artist in artists_data[\"artists\"]:\n",
    "        genres += artist[\"genres\"]\n",
    "        break\n",
    "\n",
    "    return genres\n",
    "\n",
    "def play_music(final_df):\n",
    "    #ลองเล่นเพลงที่ได้จาก preview_url\n",
    "    song = str(final_df['preview_url'].sample().values[0])\n",
    "    p = vlc.MediaPlayer(song)\n",
    "\n",
    "    #ตั้งความดังเสียง\n",
    "    p.audio_set_volume(50)\n",
    "\n",
    "    p.play()\n",
    "\n",
    "def get_genres():\n",
    "    # Open genres file\n",
    "    try:\n",
    "        with open('genres.json', 'r') as infile:\n",
    "            valid_genres = json.load(infile)\n",
    "    except FileNotFoundError:\n",
    "        print(\"Couldn't find genres file!\")\n",
    "        sys.exit(1)\n",
    "    \n",
    "    return valid_genres\n",
    "\n",
    "def create_csv(song_meta,genre,limit):\n",
    "    index = 0\n",
    "    song_meta_df = pd.DataFrame.from_dict(song_meta)\n",
    " \n",
    "    # check the song feature\n",
    "    features = sp.audio_features(song_meta['id'][0:50])\n",
    "    for i in range(1,limit//50):\n",
    "        features += sp.audio_features(song_meta['id'][50*i:50*i + 50])\n",
    "        \n",
    "    # change dictionary to dataframe\n",
    "    features_df = pd.DataFrame.from_dict(features)\n",
    "\n",
    "    # combine two dataframe\n",
    "    final_df = song_meta_df.merge(features_df)\n",
    "\n",
    "    final_df = final_df.drop(columns=['type','uri', 'track_href', 'time_signature'])\n",
    "\n",
    "    final_df.to_csv(\"csv-file/\" + genre + \".csv\",index=False)\n",
    "\n",
    "def check_file(genre):\n",
    "    path  = \"csv-file/\" + genre + \".csv\"\n",
    "    check_file = os.path.isfile(path)\n",
    "    return check_file"
   ]
  },
  {
   "cell_type": "code",
   "execution_count": 40,
   "id": "6844c0c2",
   "metadata": {},
   "outputs": [],
   "source": [
    "genres_list = get_genres()\n",
    "ids=[]\n",
    "limit_per_genres = 250\n",
    "genres_not_create = []"
   ]
  },
  {
   "cell_type": "code",
   "execution_count": 41,
   "id": "ee83ef56",
   "metadata": {},
   "outputs": [],
   "source": [
    "for genre in genres_list:\n",
    "    if check_file(genre):\n",
    "        ids += list(pd.read_csv(\"csv-file/\" + genre + \".csv\").id)\n",
    "        continue\n",
    "    break"
   ]
  },
  {
   "cell_type": "code",
   "execution_count": 20,
   "id": "cc09b809",
   "metadata": {
    "scrolled": true
   },
   "outputs": [
    {
     "data": {
      "text/plain": [
       "126"
      ]
     },
     "execution_count": 20,
     "metadata": {},
     "output_type": "execute_result"
    }
   ],
   "source": [
    "len(genres_list)"
   ]
  },
  {
   "cell_type": "code",
   "execution_count": 35,
   "id": "aa210f84",
   "metadata": {
    "scrolled": true
   },
   "outputs": [
    {
     "data": {
      "text/plain": [
       "28093"
      ]
     },
     "execution_count": 35,
     "metadata": {},
     "output_type": "execute_result"
    }
   ],
   "source": [
    "len(ids)"
   ]
  },
  {
   "cell_type": "code",
   "execution_count": null,
   "id": "928cb526",
   "metadata": {},
   "outputs": [
    {
     "name": "stdout",
     "output_type": "stream",
     "text": [
      "=======> have file acoustic.csv\n",
      "=======> have file afrobeat.csv\n",
      "=======> have file alt-rock.csv\n",
      "=======> have file alternative.csv\n",
      "=======> have file ambient.csv\n",
      "=======> have file anime.csv\n",
      "=======> have file black-metal.csv\n",
      "=======> have file bluegrass.csv\n",
      "=======> have file blues.csv\n",
      "bossanova : 0\n",
      "=======> result for search genre bossanova is 0 track\n",
      "=======> can't create file bossanova.csv\n",
      "=======> have file brazil.csv\n",
      "=======> have file breakbeat.csv\n",
      "=======> have file british.csv\n",
      "=======> have file cantopop.csv\n",
      "=======> have file chicago-house.csv\n",
      "=======> have file children.csv\n",
      "=======> have file chill.csv\n",
      "=======> have file classical.csv\n",
      "=======> have file club.csv\n",
      "=======> have file comedy.csv\n",
      "=======> have file country.csv\n",
      "=======> have file dance.csv\n",
      "=======> have file dancehall.csv\n",
      "=======> have file death-metal.csv\n",
      "=======> have file deep-house.csv\n",
      "=======> have file detroit-techno.csv\n",
      "=======> have file disco.csv\n",
      "disney : 0\n",
      "=======> result for search genre disney is 0 track\n",
      "=======> can't create file disney.csv\n",
      "=======> have file drum-and-bass.csv\n",
      "=======> have file dub.csv\n",
      "=======> have file dubstep.csv\n",
      "=======> have file edm.csv\n",
      "=======> have file electro.csv\n",
      "=======> have file electronic.csv\n",
      "=======> have file emo.csv\n",
      "=======> have file folk.csv\n",
      "=======> have file forro.csv\n",
      "=======> have file french.csv\n",
      "=======> have file funk.csv\n",
      "=======> have file garage.csv\n",
      "=======> have file german.csv\n",
      "=======> have file gospel.csv\n",
      "=======> have file goth.csv\n",
      "=======> have file grindcore.csv\n",
      "=======> have file groove.csv\n",
      "=======> have file grunge.csv\n",
      "=======> have file guitar.csv\n",
      "=======> have file happy.csv\n",
      "=======> have file hard-rock.csv\n",
      "=======> have file hardcore.csv\n",
      "=======> have file hardstyle.csv\n",
      "=======> have file heavy-metal.csv\n",
      "=======> have file hip-hop.csv\n",
      "holidays : 0\n",
      "=======> result for search genre holidays is 0 track\n",
      "=======> can't create file holidays.csv\n",
      "=======> have file honky-tonk.csv\n",
      "=======> have file house.csv\n",
      "=======> have file idm.csv\n",
      "=======> have file indian.csv\n",
      "=======> have file indie.csv\n",
      "=======> have file indie-pop.csv\n",
      "=======> have file industrial.csv\n",
      "=======> have file iranian.csv\n",
      "=======> have file j-dance.csv\n",
      "=======> have file j-idol.csv\n",
      "=======> have file j-pop.csv\n",
      "=======> have file j-rock.csv\n",
      "=======> have file jazz.csv\n",
      "=======> have file k-pop.csv\n",
      "=======> have file kids.csv\n",
      "=======> have file latin.csv\n",
      "=======> have file latino.csv\n",
      "=======> have file malay.csv\n",
      "=======> have file mandopop.csv\n",
      "=======> have file metal.csv\n",
      "metal-misc : 0\n"
     ]
    }
   ],
   "source": [
    "for genre in genres_list:\n",
    "    offset = 0\n",
    "    song_meta={'id':[],'preview_url':[],'genre':[]}\n",
    "    \n",
    "    if check_file(genre):\n",
    "        print(\"=======> have file {}.csv\".format(genre))\n",
    "        continue\n",
    "        \n",
    "    while list(song_meta.items())[2][1].count(genre) < limit_per_genres:\n",
    "        \n",
    "        print(\"{} : {}\".format(genre,list(song_meta.items())[2][1].count(genre)))\n",
    "        time.sleep(1)\n",
    "        index = len(ids)\n",
    "        try:\n",
    "            results = sp.search(q=\"genre:\"+genre,limit=50,offset=offset,type=\"track\")\n",
    "        except:\n",
    "            break\n",
    "            \n",
    "        if (len(results['tracks']['items']) == 0):\n",
    "            print(\"=======> result for search genre {} is 0 track\".format(genre))\n",
    "            break\n",
    "        \n",
    "        offset += 50\n",
    "        # create a list of song ids\n",
    "        for item in results['tracks']['items']:\n",
    "            if item['id'] in ids:\n",
    "                continue\n",
    "            track = item['id']\n",
    "            ids.append(track)\n",
    "            \n",
    "            if list(song_meta.items())[2][1].count(genre) == limit_per_genres:\n",
    "                print(\"{} : {}\".format(genre,list(song_meta.items())[2][1].count(genre)))\n",
    "                break\n",
    "            \n",
    "            if item['preview_url'] == None:\n",
    "                continue\n",
    "                \n",
    "            # song id\n",
    "            song_meta['id'].append(item['id'])\n",
    "\n",
    "            # song preview\n",
    "            preview_url = item['preview_url']\n",
    "            song_meta['preview_url'] += [preview_url]\n",
    "\n",
    "            # song genres\n",
    "            song_genre = genre\n",
    "            song_meta[\"genre\"] += [song_genre]\n",
    "        \n",
    "#         for song_id in ids[index:]:\n",
    "            \n",
    "#             if list(song_meta.items())[2][1].count(genre) == limit_per_genres:\n",
    "#                 print(\"{} : {}\".format(genre,list(song_meta.items())[2][1].count(genre)))\n",
    "#                 break\n",
    "#             # get song's meta data\n",
    "#             time.sleep(0.2)\n",
    "#             meta = sp.track(song_id)\n",
    "            \n",
    "#             if meta['preview_url'] == None:\n",
    "#                 continue\n",
    "                \n",
    "#             # song id\n",
    "#             song_meta['id'].append(song_id)\n",
    "\n",
    "#             # song preview\n",
    "#             preview_url = meta['preview_url']\n",
    "#             song_meta['preview_url'] += [preview_url]\n",
    "\n",
    "#             # song genres\n",
    "#             song_genre = genre\n",
    "#             song_meta[\"genre\"] += [song_genre]\n",
    "        \n",
    "    if list(song_meta.items())[2][1].count(genre) == 0:\n",
    "        print(\"=======> can't create file {}.csv\".format(genre))\n",
    "        genres_not_create.append(genre)\n",
    "        continue\n",
    "    \n",
    "    print(\"=======> create csv {} {}\".format(genre,list(song_meta.items())[2][1].count(genre)))\n",
    "    create_csv(song_meta,genre,limit_per_genres)"
   ]
  },
  {
   "cell_type": "code",
   "execution_count": 38,
   "id": "4971e04a",
   "metadata": {
    "scrolled": true
   },
   "outputs": [
    {
     "data": {
      "text/plain": [
       "26"
      ]
     },
     "execution_count": 38,
     "metadata": {},
     "output_type": "execute_result"
    }
   ],
   "source": [
    "len(genres_not_create)"
   ]
  },
  {
   "cell_type": "code",
   "execution_count": 39,
   "id": "e237495d",
   "metadata": {},
   "outputs": [
    {
     "data": {
      "text/plain": [
       "['bossanova',\n",
       " 'disney',\n",
       " 'holidays',\n",
       " 'metal-misc',\n",
       " 'movies',\n",
       " 'new-release',\n",
       " 'philippines-opm',\n",
       " 'post-dubstep',\n",
       " 'rainy-day',\n",
       " 'road-trip',\n",
       " 'soundtracks',\n",
       " 'summer',\n",
       " 'work-out',\n",
       " 'bossanova',\n",
       " 'disney',\n",
       " 'holidays',\n",
       " 'metal-misc',\n",
       " 'movies',\n",
       " 'new-release',\n",
       " 'philippines-opm',\n",
       " 'post-dubstep',\n",
       " 'rainy-day',\n",
       " 'road-trip',\n",
       " 'soundtracks',\n",
       " 'summer',\n",
       " 'work-out']"
      ]
     },
     "execution_count": 39,
     "metadata": {},
     "output_type": "execute_result"
    }
   ],
   "source": [
    "genres_not_create.du"
   ]
  }
 ],
 "metadata": {
  "kernelspec": {
   "display_name": "deep_env",
   "language": "python",
   "name": "deep_env"
  },
  "language_info": {
   "codemirror_mode": {
    "name": "ipython",
    "version": 3
   },
   "file_extension": ".py",
   "mimetype": "text/x-python",
   "name": "python",
   "nbconvert_exporter": "python",
   "pygments_lexer": "ipython3",
   "version": "3.9.16"
  }
 },
 "nbformat": 4,
 "nbformat_minor": 5
}
